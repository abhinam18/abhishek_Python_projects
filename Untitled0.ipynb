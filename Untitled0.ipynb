{
  "nbformat": 4,
  "nbformat_minor": 0,
  "metadata": {
    "colab": {
      "provenance": [],
      "authorship_tag": "ABX9TyOmLxumKgQL7GpoMMSX7847",
      "include_colab_link": true
    },
    "kernelspec": {
      "name": "python3",
      "display_name": "Python 3"
    },
    "language_info": {
      "name": "python"
    }
  },
  "cells": [
    {
      "cell_type": "markdown",
      "metadata": {
        "id": "view-in-github",
        "colab_type": "text"
      },
      "source": [
        "<a href=\"https://colab.research.google.com/github/abhinam18/abhishekdataprojects/blob/main/Untitled0.ipynb\" target=\"_parent\"><img src=\"https://colab.research.google.com/assets/colab-badge.svg\" alt=\"Open In Colab\"/></a>"
      ]
    },
    {
      "cell_type": "code",
      "execution_count": 6,
      "metadata": {
        "colab": {
          "base_uri": "https://localhost:8080/"
        },
        "id": "XAfRz4l3svH_",
        "outputId": "3d8abd91-79b2-4e56-f534-b1d7f629eee1"
      },
      "outputs": [
        {
          "output_type": "stream",
          "name": "stdout",
          "text": [
            "0\n",
            "1\n",
            "2\n",
            "3\n",
            "4\n",
            "5\n",
            "6\n",
            "7\n",
            "8\n",
            "9\n",
            "153\n",
            "370\n",
            "371\n",
            "407\n"
          ]
        }
      ],
      "source": [
        "# Number of n digit which are equal to sum of nth power of its digits (Armstrong Number)\n",
        "\n",
        "for i in range(1001):\n",
        "    num=i\n",
        "    result=0\n",
        "    n=len(str(i))\n",
        "    while(i!=0):\n",
        "         digit=i%10\n",
        "         result= result + digit**n\n",
        "         i=i//10\n",
        "    if num==result:\n",
        "          print(num)"
      ]
    },
    {
      "cell_type": "code",
      "source": [],
      "metadata": {
        "id": "6S9oGRu4ETxL"
      },
      "execution_count": null,
      "outputs": []
    }
  ]
}